{
 "cells": [
  {
   "cell_type": "code",
   "execution_count": 2,
   "id": "db822956",
   "metadata": {},
   "outputs": [
    {
     "name": "stdout",
     "output_type": "stream",
     "text": [
      "get_resolver().url_patterns =\n",
      "[<URLResolver <module 'core.urls' from '/home/simha/app/src/core/urls.py'> (core:core) ''>,\n",
      " <URLResolver <module 'pages.urls' from '/home/simha/app/src/pages/urls.py'> (pages:pages) ''>,\n",
      " <URLPattern 'accounts/login/'>,\n",
      " <URLPattern 'accounts/logout/'>,\n",
      " <URLResolver <URLPattern list> (admin:admin) 'admin/'>,\n",
      " <URLResolver <module 'django.contrib.auth.urls' from '/home/simha/app/.venv/lib/python3.9/site-packages/django/contrib/auth/urls.py'> (None:None) 'accounts/'>,\n",
      " <URLResolver <module 'marketing.urls' from '/home/simha/app/src/marketing/urls.py'> (marketing:marketing) 'marketing/'>,\n",
      " <URLResolver <module 'materials.urls' from '/home/simha/app/src/materials/urls.py'> (materials:materials) 'materials/'>,\n",
      " <URLPattern '^media/(?P<path>.*)$'>,\n",
      " <URLPattern '^static/(?P<path>.*)$'>]\n",
      "\n"
     ]
    },
    {
     "data": {
      "text/plain": [
       "[<URLResolver <module 'core.urls' from '/home/simha/app/src/core/urls.py'> (core:core) ''>,\n",
       " <URLResolver <module 'pages.urls' from '/home/simha/app/src/pages/urls.py'> (pages:pages) ''>,\n",
       " <URLPattern 'accounts/login/'>,\n",
       " <URLPattern 'accounts/logout/'>,\n",
       " <URLResolver <URLPattern list> (admin:admin) 'admin/'>,\n",
       " <URLResolver <module 'django.contrib.auth.urls' from '/home/simha/app/.venv/lib/python3.9/site-packages/django/contrib/auth/urls.py'> (None:None) 'accounts/'>,\n",
       " <URLResolver <module 'marketing.urls' from '/home/simha/app/src/marketing/urls.py'> (marketing:marketing) 'marketing/'>,\n",
       " <URLResolver <module 'materials.urls' from '/home/simha/app/src/materials/urls.py'> (materials:materials) 'materials/'>,\n",
       " <URLPattern '^media/(?P<path>.*)$'>,\n",
       " <URLPattern '^static/(?P<path>.*)$'>]"
      ]
     },
     "execution_count": 2,
     "metadata": {},
     "output_type": "execute_result"
    }
   ],
   "source": [
    "from django.urls import get_resolver\n",
    "from sorcery import print_args\n",
    "print_args(get_resolver().url_patterns)"
   ]
  },
  {
   "cell_type": "code",
   "execution_count": 7,
   "id": "5cf48423",
   "metadata": {},
   "outputs": [
    {
     "name": "stdout",
     "output_type": "stream",
     "text": [
      "[\n",
      "    \"<function serve at 0x7f5016b529d0>\",\n",
      "    \"<function PasswordResetCompleteView at 0x7f5016b79dc0>\",\n",
      "    \"password_reset_complete\",\n",
      "    \"<function PasswordResetConfirmView at 0x7f5016b79ca0>\",\n",
      "    \"password_reset_confirm\",\n",
      "    \"<function PasswordResetDoneView at 0x7f5016b79c10>\",\n",
      "    \"password_reset_done\",\n",
      "    \"<function PasswordResetView at 0x7f5016b79b80>\",\n",
      "    \"password_reset\",\n",
      "    \"<function PasswordChangeDoneView at 0x7f5016b79af0>\",\n",
      "    \"password_change_done\",\n",
      "    \"<function PasswordChangeView at 0x7f5016b79a60>\",\n",
      "    \"password_change\",\n",
      "    \"<function LogoutView at 0x7f5016b799d0>\",\n",
      "    \"logout\",\n",
      "    \"<function LoginView at 0x7f5016b79940>\",\n",
      "    \"login\",\n",
      "    \"<function LogoutView at 0x7f5016b58c10>\",\n",
      "    \"<function LoginView at 0x7f5016b58940>\"\n",
      "]\n"
     ]
    }
   ],
   "source": [
    "from django.urls import get_resolver\n",
    "from website.pretty_printing import dumps\n",
    "test  = list(get_resolver().reverse_dict.keys())\n",
    "print(dumps(test))"
   ]
  },
  {
   "cell_type": "code",
   "execution_count": 12,
   "id": "31e57ff0",
   "metadata": {},
   "outputs": [
    {
     "name": "stdout",
     "output_type": "stream",
     "text": [
      "get_resolver().url_patterns =\n",
      "[<URLResolver <module 'core.urls' from '/home/simha/app/src/core/urls.py'> (core:core) ''>,\n",
      " <URLResolver <module 'pages.urls' from '/home/simha/app/src/pages/urls.py'> (pages:pages) ''>,\n",
      " <URLPattern 'accounts/login/'>,\n",
      " <URLPattern 'accounts/logout/'>,\n",
      " <URLResolver <URLPattern list> (admin:admin) 'admin/'>,\n",
      " <URLResolver <module 'django.contrib.auth.urls' from '/home/simha/app/.venv/lib/python3.9/site-packages/django/contrib/auth/urls.py'> (None:None) 'accounts/'>,\n",
      " <URLResolver <module 'marketing.urls' from '/home/simha/app/src/marketing/urls.py'> (marketing:marketing) 'marketing/'>,\n",
      " <URLResolver <module 'materials.urls' from '/home/simha/app/src/materials/urls.py'> (materials:materials) 'materials/'>,\n",
      " <URLPattern '^media/(?P<path>.*)$'>,\n",
      " <URLPattern '^static/(?P<path>.*)$'>]\n",
      "\n"
     ]
    },
    {
     "data": {
      "text/plain": [
       "[<URLResolver <module 'core.urls' from '/home/simha/app/src/core/urls.py'> (core:core) ''>,\n",
       " <URLResolver <module 'pages.urls' from '/home/simha/app/src/pages/urls.py'> (pages:pages) ''>,\n",
       " <URLPattern 'accounts/login/'>,\n",
       " <URLPattern 'accounts/logout/'>,\n",
       " <URLResolver <URLPattern list> (admin:admin) 'admin/'>,\n",
       " <URLResolver <module 'django.contrib.auth.urls' from '/home/simha/app/.venv/lib/python3.9/site-packages/django/contrib/auth/urls.py'> (None:None) 'accounts/'>,\n",
       " <URLResolver <module 'marketing.urls' from '/home/simha/app/src/marketing/urls.py'> (marketing:marketing) 'marketing/'>,\n",
       " <URLResolver <module 'materials.urls' from '/home/simha/app/src/materials/urls.py'> (materials:materials) 'materials/'>,\n",
       " <URLPattern '^media/(?P<path>.*)$'>,\n",
       " <URLPattern '^static/(?P<path>.*)$'>]"
      ]
     },
     "execution_count": 12,
     "metadata": {},
     "output_type": "execute_result"
    }
   ],
   "source": [
    "from django.urls import get_resolver\n",
    "print_args(get_resolver().url_patterns)"
   ]
  },
  {
   "cell_type": "code",
   "execution_count": 13,
   "id": "2f5e715f",
   "metadata": {},
   "outputs": [
    {
     "data": {
      "text/plain": [
       "'/accounts/login/'"
      ]
     },
     "execution_count": 13,
     "metadata": {},
     "output_type": "execute_result"
    }
   ],
   "source": [
    "from django.urls import reverse\n",
    "reverse('login')"
   ]
  },
  {
   "cell_type": "code",
   "execution_count": 16,
   "id": "b814ebb2",
   "metadata": {},
   "outputs": [
    {
     "name": "stderr",
     "output_type": "stream",
     "text": [
      "--------------------------------------------------------------------------------------------------------------\n",
      "2021-05-09T22:53:41.729+05:30\n",
      "XXXDEBUGXXX debug_sql() /home/simha/app/.venv/lib/python3.9/site-packages/django/db/backends/utils.py[:123] django.db.backends\n",
      "[]\n",
      "--------------------------------------------------------------------------------------------------------------\n",
      "\n",
      "\n",
      "\n",
      "[0.001]\n",
      "SELECT \"auth_user\".\"id\",\n",
      "       \"auth_user\".\"password\",\n",
      "       \"auth_user\".\"last_login\",\n",
      "       \"auth_user\".\"is_superuser\",\n",
      "       \"auth_user\".\"username\",\n",
      "       \"auth_user\".\"first_name\",\n",
      "       \"auth_user\".\"last_name\",\n",
      "       \"auth_user\".\"email\",\n",
      "       \"auth_user\".\"is_staff\",\n",
      "       \"auth_user\".\"is_active\",\n",
      "       \"auth_user\".\"date_joined\"\n",
      "FROM \"auth_user\"\n",
      "LIMIT 1\n",
      "OFFSET 1\n",
      "--------------------------------------------------------------------------------------------------------------\n",
      "\n",
      "--------------------------------------------------------------------------------------------------------------\n",
      "2021-05-09T22:53:41.742+05:30\n",
      "XXXDEBUGXXX debug_sql() /home/simha/app/.venv/lib/python3.9/site-packages/django/db/backends/utils.py[:123] django.db.backends\n",
      "[]\n",
      "--------------------------------------------------------------------------------------------------------------\n",
      "\n",
      "\n",
      "\n",
      "[0.000]\n",
      "SELECT \"core_supplier\".\"id\",\n",
      "       \"core_supplier\".\"user_id\",\n",
      "       \"core_supplier\".\"name\",\n",
      "       \"core_supplier\".\"phone\",\n",
      "       \"core_supplier\".\"date_created\"\n",
      "FROM \"core_supplier\"\n",
      "WHERE \"core_supplier\".\"user_id\" = 2\n",
      "LIMIT 21\n",
      "--------------------------------------------------------------------------------------------------------------\n",
      "\n"
     ]
    },
    {
     "ename": "RelatedObjectDoesNotExist",
     "evalue": "User has no core_supplier_user.",
     "output_type": "error",
     "traceback": [
      "\u001b[0;31m---------------------------------------------------------------------------\u001b[0m",
      "\u001b[0;31mRelatedObjectDoesNotExist\u001b[0m                 Traceback (most recent call last)",
      "\u001b[0;32m<ipython-input-16-4cc968ec55db>\u001b[0m in \u001b[0;36m<module>\u001b[0;34m\u001b[0m\n\u001b[0;32m----> 1\u001b[0;31m \u001b[0mUser\u001b[0m\u001b[0;34m.\u001b[0m\u001b[0mobjects\u001b[0m\u001b[0;34m.\u001b[0m\u001b[0mall\u001b[0m\u001b[0;34m(\u001b[0m\u001b[0;34m)\u001b[0m\u001b[0;34m[\u001b[0m\u001b[0;36m1\u001b[0m\u001b[0;34m]\u001b[0m\u001b[0;34m.\u001b[0m\u001b[0mcore_supplier_user\u001b[0m\u001b[0;34m\u001b[0m\u001b[0;34m\u001b[0m\u001b[0m\n\u001b[0m",
      "\u001b[0;32m~/app/.venv/lib/python3.9/site-packages/django/db/models/fields/related_descriptors.py\u001b[0m in \u001b[0;36m__get__\u001b[0;34m(self, instance, cls)\u001b[0m\n\u001b[1;32m    419\u001b[0m \u001b[0;34m\u001b[0m\u001b[0m\n\u001b[1;32m    420\u001b[0m         \u001b[0;32mif\u001b[0m \u001b[0mrel_obj\u001b[0m \u001b[0;32mis\u001b[0m \u001b[0;32mNone\u001b[0m\u001b[0;34m:\u001b[0m\u001b[0;34m\u001b[0m\u001b[0;34m\u001b[0m\u001b[0m\n\u001b[0;32m--> 421\u001b[0;31m             raise self.RelatedObjectDoesNotExist(\n\u001b[0m\u001b[1;32m    422\u001b[0m                 \"%s has no %s.\" % (\n\u001b[1;32m    423\u001b[0m                     \u001b[0minstance\u001b[0m\u001b[0;34m.\u001b[0m\u001b[0m__class__\u001b[0m\u001b[0;34m.\u001b[0m\u001b[0m__name__\u001b[0m\u001b[0;34m,\u001b[0m\u001b[0;34m\u001b[0m\u001b[0;34m\u001b[0m\u001b[0m\n",
      "\u001b[0;31mRelatedObjectDoesNotExist\u001b[0m: User has no core_supplier_user."
     ]
    }
   ],
   "source": [
    "User.objects.all()[1].core_supplier_user"
   ]
  }
 ],
 "metadata": {
  "kernelspec": {
   "display_name": "Django Shell-Plus",
   "language": "python",
   "name": "django_extensions"
  },
  "language_info": {
   "codemirror_mode": {
    "name": "ipython",
    "version": 3
   },
   "file_extension": ".py",
   "mimetype": "text/x-python",
   "name": "python",
   "nbconvert_exporter": "python",
   "pygments_lexer": "ipython3",
   "version": "3.9.5"
  }
 },
 "nbformat": 4,
 "nbformat_minor": 5
}
