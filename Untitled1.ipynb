{
 "cells": [
  {
   "cell_type": "code",
   "execution_count": 12,
   "id": "02aaa08c",
   "metadata": {},
   "outputs": [],
   "source": [
    "mat_reqs = MaterialRequest.objects.prefetch_related('materials_supplierquotation_material_request').all()"
   ]
  },
  {
   "cell_type": "code",
   "execution_count": 14,
   "id": "7271a382",
   "metadata": {},
   "outputs": [
    {
     "name": "stderr",
     "output_type": "stream",
     "text": [
      "--------------------------------------------------------------------------------------------------------------\n",
      "2021-05-11T09:16:08.201+05:30\n",
      "XXXDEBUGXXX debug_sql() /home/simha/app/.venv/lib/python3.9/site-packages/django/db/backends/utils.py[:123] django.db.backends\n",
      "[]\n",
      "--------------------------------------------------------------------------------------------------------------\n",
      "\n",
      "\n",
      "\n",
      "[0.001]\n",
      "SELECT \"materials_materialrequest\".\"id\",\n",
      "       \"materials_materialrequest\".\"material_name\",\n",
      "       \"materials_materialrequest\".\"quantity\",\n",
      "       \"materials_materialrequest\".\"date_required_by\",\n",
      "       \"materials_materialrequest\".\"sent_to_all_suppliers\",\n",
      "       \"materials_materialrequest\".\"created_by_id\",\n",
      "       \"materials_materialrequest\".\"created_at\",\n",
      "       \"materials_materialrequest\".\"updated_at\"\n",
      "FROM \"materials_materialrequest\"\n",
      "LIMIT 1\n",
      "--------------------------------------------------------------------------------------------------------------\n",
      "\n",
      "--------------------------------------------------------------------------------------------------------------\n",
      "2021-05-11T09:16:08.208+05:30\n",
      "XXXDEBUGXXX debug_sql() /home/simha/app/.venv/lib/python3.9/site-packages/django/db/backends/utils.py[:123] django.db.backends\n",
      "[]\n",
      "--------------------------------------------------------------------------------------------------------------\n",
      "\n",
      "\n",
      "\n",
      "[0.000]\n",
      "SELECT \"materials_supplierquotation\".\"id\",\n",
      "       \"materials_supplierquotation\".\"material_request_id\",\n",
      "       \"materials_supplierquotation\".\"quantity\",\n",
      "       \"materials_supplierquotation\".\"date_of_supply\",\n",
      "       \"materials_supplierquotation\".\"created_by_id\",\n",
      "       \"materials_supplierquotation\".\"created_at\",\n",
      "       \"materials_supplierquotation\".\"updated_at\"\n",
      "FROM \"materials_supplierquotation\"\n",
      "WHERE \"materials_supplierquotation\".\"material_request_id\" IN (11)\n",
      "--------------------------------------------------------------------------------------------------------------\n",
      "\n"
     ]
    },
    {
     "data": {
      "text/plain": [
       "1"
      ]
     },
     "execution_count": 14,
     "metadata": {},
     "output_type": "execute_result"
    }
   ],
   "source": [
    "mat_reqs[0].materials_supplierquotation_material_request.count()"
   ]
  },
  {
   "cell_type": "code",
   "execution_count": 4,
   "id": "3833021b",
   "metadata": {},
   "outputs": [
    {
     "name": "stderr",
     "output_type": "stream",
     "text": [
      "--------------------------------------------------------------------------------------------------------------\n",
      "2021-05-11T09:11:12.507+05:30\n",
      "XXXDEBUGXXX debug_sql() /home/simha/app/.venv/lib/python3.9/site-packages/django/db/backends/utils.py[:123] django.db.backends\n",
      "[]\n",
      "--------------------------------------------------------------------------------------------------------------\n",
      "\n",
      "\n",
      "\n",
      "[0.003]\n",
      "SELECT \"materials_supplierquotation\".\"id\",\n",
      "       \"materials_supplierquotation\".\"material_request_id\",\n",
      "       \"materials_supplierquotation\".\"quantity\",\n",
      "       \"materials_supplierquotation\".\"date_of_supply\",\n",
      "       \"materials_supplierquotation\".\"created_by_id\",\n",
      "       \"materials_supplierquotation\".\"created_at\",\n",
      "       \"materials_supplierquotation\".\"updated_at\"\n",
      "FROM \"materials_supplierquotation\"\n",
      "LIMIT 1\n",
      "--------------------------------------------------------------------------------------------------------------\n",
      "\n"
     ]
    },
    {
     "data": {
      "text/plain": [
       "{'_state': <django.db.models.base.ModelState at 0x7f6633699c70>,\n",
       " 'id': 1,\n",
       " 'material_request_id': 11,\n",
       " 'quantity': 10.0,\n",
       " 'date_of_supply': datetime.datetime(2021, 5, 19, 0, 0, tzinfo=<UTC>),\n",
       " 'created_by_id': 7,\n",
       " 'created_at': datetime.datetime(2021, 5, 11, 3, 31, 46, 837982, tzinfo=<UTC>),\n",
       " 'updated_at': datetime.datetime(2021, 5, 11, 3, 31, 46, 838037, tzinfo=<UTC>)}"
      ]
     },
     "execution_count": 4,
     "metadata": {},
     "output_type": "execute_result"
    }
   ],
   "source": [
    "SupplierQuotation.objects.all()[0].__dict__"
   ]
  }
 ],
 "metadata": {
  "kernelspec": {
   "display_name": "Django Shell-Plus",
   "language": "python",
   "name": "django_extensions"
  },
  "language_info": {
   "codemirror_mode": {
    "name": "ipython",
    "version": 3
   },
   "file_extension": ".py",
   "mimetype": "text/x-python",
   "name": "python",
   "nbconvert_exporter": "python",
   "pygments_lexer": "ipython3",
   "version": "3.9.5"
  }
 },
 "nbformat": 4,
 "nbformat_minor": 5
}
